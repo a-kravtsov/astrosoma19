{
 "cells": [
  {
   "cell_type": "markdown",
   "metadata": {},
   "source": [
    "## Practical exercises. Part III\n",
    "\n",
    "### Andrey Kravtsov\n",
    "\n",
    "### The University of Chicago \n",
    "\n",
    "### email: kravtsov@uchicago.edu"
   ]
  },
  {
   "cell_type": "markdown",
   "metadata": {},
   "source": [
    "Exercises in this Part III of the practical exercises related to galaxy formation explore the simple galaxy formation model discussed in lectures. Different versions of the model are implemented using python classes in the file <a href=\"codes/galaxy_model.py\">codes/galaxy_model.py</a>. I encourage you to explore it and map particular routines to equations and physical processes in notebooks of structure formation <a href=\"l04_peak_profile_MAH.ipynb\">lecture 4</a> and <a href=\"l05_galaxy_formation.ipynb\">lecture 5.</a>\n",
    "\n",
    "A specific exercise I suggest below is exploration of predictions of different versions of the model (that include different processes) and comparison of their predictions for the relation between abundance of heavy elements (\"metallicity\") of galaxies and stellar mass galaxies that is well established for nearby dwarf galaxies. "
   ]
  },
  {
   "cell_type": "code",
   "execution_count": 1,
   "metadata": {},
   "outputs": [],
   "source": [
    "# boiler plate auxiliary stuff\n",
    "%matplotlib inline\n",
    "import numpy as np\n",
    "%load_ext autoreload\n",
    "%autoreload 2\n",
    "\n",
    "# import pyplot and set some parameters to make plots prettier\n",
    "import matplotlib.pyplot as plt\n",
    "from codes.plot_utils import plot_pretty\n",
    "plot_pretty()"
   ]
  },
  {
   "cell_type": "markdown",
   "metadata": {},
   "source": [
    "### Context. \n",
    "\n",
    "A simple galaxy formation model was introduced in lecture 4. In lecture 5 different processes that affect galaxy formation were discussed and these were included in the model in a parameterized form. Effect of different processes on $M_\\star-M_{\\rm halo}$ relation was examined, but we have not looked at any other predictions of the model. \n",
    "\n",
    "In this exercise we will look what different versions of the model predict for the relation between galaxy metallicity and its stellar mass, which is now well established in the low-mass regime for galaxies. \n",
    "\n",
    "This is just to give you a tast of how testing and explorations of such models can occur. Successes and failures in such comparison teach us about what physical processes are relevant for different observable properties of galaxies and also constrain these processes. "
   ]
  },
  {
   "cell_type": "markdown",
   "metadata": {},
   "source": [
    "### Code running different models\n",
    "\n",
    "Run models with different physical ingredients below. "
   ]
  },
  {
   "cell_type": "markdown",
   "metadata": {},
   "source": [
    "First set up cosmological model for the calculation of model galaxy evolution. "
   ]
  },
  {
   "cell_type": "code",
   "execution_count": 2,
   "metadata": {},
   "outputs": [],
   "source": [
    "from colossus.cosmology import cosmology\n",
    "\n",
    "# define a vector of cosmological parameters:    \n",
    "my_cosmo = {'flat': True, 'H0': 70.0, 'Om0': 0.3, 'Ob0': 0.045714, 'sigma8': 0.81, 'ns': 0.96}\n",
    "# set my_cosmo to be the current cosmology\n",
    "cosmo = cosmology.setCosmology('my_cosmo', my_cosmo)    "
   ]
  },
  {
   "cell_type": "markdown",
   "metadata": {},
   "source": [
    "The routine below computes model results on a 2d grid of initial halo masses and redshifts and constructs 2d interpolating spline table that can be used to plot model predictions smoothly. "
   ]
  },
  {
   "cell_type": "code",
   "execution_count": 3,
   "metadata": {},
   "outputs": [],
   "source": [
    "import codes.galaxy_model as gm\n",
    "\n",
    "from scipy.interpolate import interp2d\n",
    "from scipy.integrate import odeint\n",
    "\n",
    "def compute_mass_grid(gmodel = None, Nz=81, Nm=60, kwargs=None):\n",
    "    # grid of redshifts and halo masses\n",
    "    zg = np.linspace(30., 0., Nz)\n",
    "    lzg1 = np.log10(1.0+zg)\n",
    "    t_output = cosmo.age(zg)\n",
    "    \n",
    "    lMh = np.linspace(5.0, 8., Nm)\n",
    "    Mh  = np.power(10, lMh)\n",
    "\n",
    "    # arrays to hold evolutionary grids of halo mass, gas mass, stellar mass and metal mass\n",
    "    Mhout  = np.zeros((Nm,Nz)); Mgout  = np.zeros((Nm,Nz))\n",
    "    Msout  = np.zeros((Nm,Nz)); MZout  = np.zeros((Nm,Nz))\n",
    "    #evolve a grid of halo masses\n",
    "    for j, Mhd in enumerate(Mh):\n",
    "        #if not j%5:\n",
    "        #    print \"evolving halo of log10(Mh)=%2.2f ...\"%(lMh[j])\n",
    "        # instantiate a model galaxy with a given halo mass at the initial time\n",
    "        g = gmodel(t = t_output[0], Mh = Mhd, Mg = None, Ms = None, MZ = None, \n",
    "                           **kwargs)\n",
    "        # initial values of masses\n",
    "        y0 = np.array([g.Mh, g.Mg, g.Ms, g.MZ])\n",
    "        # solve the system of ODEs\n",
    "        Mout = odeint(g.evolve, y0, t_output, rtol = 1.e-5, mxstep = 4000)\n",
    "        # split Mout into arrays for specific masses with more intuitive names for convenience\n",
    "        Mhout[j,:] = Mout[:,0]; Mgout[j,:] = Mout[:,1]\n",
    "        Msout[j,:] = Mout[:,2]; MZout[j,:] = Mout[:,3]\n",
    "    # \n",
    "    # prepare 2D splines for interpolation\n",
    "    #\n",
    "    Mmin = 1.e-10 # prevent zeros in case no SF occurred\n",
    "    rmin = 1.e-10\n",
    "    lMhi  = interp2d(lzg1, lMh, np.log10(np.maximum(Mmin,Mhout)), bounds_error=True, kind='cubic')\n",
    "    lMgi  = interp2d(lzg1, lMh, np.log10(np.maximum(Mmin,Mgout)), bounds_error=True, kind='cubic')\n",
    "    lMsi  = interp2d(lzg1, lMh, np.log10(np.maximum(Mmin,Msout)), bounds_error=True, kind='cubic')\n",
    "    lMZi  = interp2d(lzg1, lMh, np.log10(np.maximum(Mmin,MZout)), bounds_error=True, kind='cubic')\n",
    "    return lMhi, lMgi, lMsi, lMZi\n"
   ]
  },
  {
   "cell_type": "markdown",
   "metadata": {},
   "source": [
    "First, run the most basic galaxy model with no UV heating, no suppresion of gas accretion at large masses, and no winds."
   ]
  },
  {
   "cell_type": "code",
   "execution_count": 4,
   "metadata": {},
   "outputs": [],
   "source": [
    "# define model \n",
    "sfrmodel = 'gaslinear'; tausf = 2.0 # Gyr\n",
    "Zsun = 0.018; Z_IGM = 5.e-3*Zsun \n",
    "\n",
    "Nz = 81; Nm = 60; \n",
    "lMmin = 5.0; lMmax = 8.0; \n",
    "lMh = np.linspace(5.0, 8., Nm)\n",
    "Mh  = np.power(10, lMh)\n",
    "\n",
    "# setup dictionary of parameters to pass to the model\n",
    "kwargs = {'cosmo': cosmo, 'Z_IGM': Z_IGM, 'sfrmodel': sfrmodel, 'tausf': tausf}"
   ]
  },
  {
   "cell_type": "markdown",
   "metadata": {},
   "source": [
    "We will save the grids of halo mass, gas mass, stellar mass, and heavy element mass in arrays with different name for each model. "
   ]
  },
  {
   "cell_type": "code",
   "execution_count": 5,
   "metadata": {},
   "outputs": [],
   "source": [
    "lMhnw, lMgnw, lMsnw, lMZnw = compute_mass_grid(gmodel=gm.model_galaxy, \n",
    "                                           Nz=Nz, Nm=Nm, kwargs = kwargs)"
   ]
  },
  {
   "cell_type": "markdown",
   "metadata": {},
   "source": [
    "Now run model that includes modelling of gas accretion suppression due to UV heating of intergalactic gas after reionization. "
   ]
  },
  {
   "cell_type": "code",
   "execution_count": 6,
   "metadata": {},
   "outputs": [],
   "source": [
    "lMhuvh, lMguvh, lMsuvh, lMZuvh = compute_mass_grid(gmodel=gm.gmodel_UVheating, \n",
    "                                           Nz=Nz, Nm=Nm, kwargs = kwargs)"
   ]
  },
  {
   "cell_type": "markdown",
   "metadata": {},
   "source": [
    "Model with both UV heating and suppression of accretion due to inefficient cooling in large-mass halos (see <a href=\"l05_galaxy_formation.ipynb\">lecture 5 notebook</a>)."
   ]
  },
  {
   "cell_type": "code",
   "execution_count": 7,
   "metadata": {},
   "outputs": [],
   "source": [
    "lMhh, lMgh, lMsh, lMZh = compute_mass_grid(gmodel=gm.gmodel_heating, \n",
    "                                           Nz=Nz, Nm=Nm, kwargs = kwargs)"
   ]
  },
  {
   "cell_type": "markdown",
   "metadata": {},
   "source": [
    "Model with the above processes and wind modelling (see <a href=\"l05_galaxy_formation.ipynb\">lecture 5 notebook</a>).\n",
    "\n",
    "The mass loading factor of the wind is modeled as\n",
    "\n",
    "$$\\eta \\equiv\\frac{\\dot{M}_{\\rm g,out}}{\\dot{M}_\\star} = \\eta_{\\rm wind}\\,\\left(\\frac{M_\\star}{10^{10}\\ M_\\odot}\\right)^{\\alpha_{\\rm wind}}.$$\n",
    "\n",
    "The model below sets $\\alpha_{\\rm wind}=0$, which eliminates dependence of wind mass loading factor $\\eta$ on stellar mass. It is thus, models wind with constant $\\eta$ that is specified in the dictionary below.  "
   ]
  },
  {
   "cell_type": "code",
   "execution_count": 8,
   "metadata": {},
   "outputs": [],
   "source": [
    "kwargs = {'windmodel': 'powerlaw', 'etawind': 1.0, 'alfawind': 0.0, 'cosmo': cosmo, 'Z_IGM': Z_IGM, 'sfrmodel': sfrmodel, 'tausf': tausf}\n",
    "lMhcw, lMgcw, lMscw, lMZcw = compute_mass_grid(gmodel=gm.gmodel_wind, \n",
    "                                           Nz=Nz, Nm=Nm, kwargs = kwargs)"
   ]
  },
  {
   "cell_type": "markdown",
   "metadata": {},
   "source": [
    "Next we run a model with the same power law parameterization of $\\eta$ as above, but with parameters $\\eta_{\\rm wind}=3.6$ and $\\alpha_{\\rm wind}=-0.35$ measured in galaxy formation simulations by\n",
    "<a href=\"http://adsabs.harvard.edu/abs/2015MNRAS.454.2691M\">Muratov et al. (2015)</a>."
   ]
  },
  {
   "cell_type": "code",
   "execution_count": 9,
   "metadata": {},
   "outputs": [],
   "source": [
    "kwargs = {'windmodel': 'powerlaw', 'etawind': 3.6, 'alfawind': -0.35, 'cosmo': cosmo, 'Z_IGM': Z_IGM, 'sfrmodel': sfrmodel, 'tausf': tausf}\n",
    "lMhm15w, lMgm15w, lMsm15w, lMZm15w = compute_mass_grid(gmodel=gm.gmodel_wind, \n",
    "                                           Nz=Nz, Nm=Nm, kwargs = kwargs)"
   ]
  },
  {
   "cell_type": "markdown",
   "metadata": {},
   "source": [
    "Now results can be plotted. \n",
    "\n",
    "Routines below are set up to plot comparison of model predictions for galaxy metallicity and its stellar mass with observational measurements of these for nearby dwarf galaxies from samples of <a href=\"https://ui.adsabs.harvard.edu/abs/2006ApJ...647..970L/abstract\">Lee et al. (2006)</a> and <a href=\"https://ui.adsabs.harvard.edu/abs/2013ApJ...779..102K/abstract\">Kirby et al. (2013)</a> and for more massive galaxies at three different redshifts, as reported by <a href=\"https://ui.adsabs.harvard.edu/abs/2008ASPC..396..409M/abstract\">Maiolino et al. (2008).</a> "
   ]
  },
  {
   "cell_type": "code",
   "execution_count": 10,
   "metadata": {},
   "outputs": [],
   "source": [
    "#\n",
    "# plot observational trend from Maiolino\n",
    "OHsol = 9.\n",
    "    \n",
    "def Zmaiolino08(lMs,lM0,K0):\n",
    "    \"\"\"\n",
    "    best fit relation from table in Maiolino et al. 2008 using consistent Z calibration\n",
    "    \"\"\"\n",
    "    return -0.0864*(lMs-lM0)**2 + K0\n",
    "\n",
    "\n",
    "def plot_ZMs_data(ax):\n",
    "    zcolors = ['mediumorchid', 'red', 'blue', 'darkgray']\n",
    "    zmaio = np.array([0.07,  2.2, 3.5])\n",
    "    lM0 = np.array([11.8, 12.38, 12.76])\n",
    "    K0 = np.array([9.04, 8.99, 8.79])\n",
    "    nzplot = 3\n",
    "\n",
    "    lMs = np.arange(9.0, 11.0, 0.1)\n",
    "    for i, zm in enumerate(zmaio[:nzplot]): \n",
    "        Zmaio = Zmaiolino08(lMs, lM0[i], K0[i]) - OHsol + 0.1\n",
    "        ax.plot(10.**lMs, 10.**Zmaio, '--', c=zcolors[i], lw=3.0, label=r'${\\rm M08}, z=%.1f$'%zm)\n",
    "\n",
    "    # plot Lee et al. 2006\n",
    "    lMsL = np.linspace(5.5, 9.5, 100)\n",
    "    lZLp, elZLp, lMsLp = np.loadtxt('data/lee06.txt',usecols=(1,3,4),unpack=True)\n",
    "    lZLp = lZLp - OHsol\n",
    "    ax.scatter(10**lMsLp,10.**lZLp, s=30, marker='o', c='slateblue', \n",
    "               edgecolor='darkslateblue', label=r'$\\rm Lee\\ et\\ al.\\ 06$')\n",
    "    # data from Kirby et al. 2013\n",
    "    lLVk, elLVk, lZk, elZk  = np.loadtxt('data/kirby13_tab4.txt',usecols=(4,5,6,7),unpack=True)\n",
    "    ax.scatter(10**lLVk, 10.**lZk, s=35, marker='p', c='mediumpurple',\n",
    "               edgecolor='darkslateblue', label=r'$\\rm Kirby\\ et al.\\ 13$')\n",
    "\n",
    "def plot_MsZ_model_obs(lMsiarr, lMigarr, lMZiarr, \n",
    "                       xlims=[1.e3, 3.e11], ylims=[1.e-3, 20.], \n",
    "                       zplot=0, titles=r'$z=0$'):\n",
    "    fig,ax = plt.subplots(1,3, figsize=(9, 3))\n",
    "\n",
    "    Zsun = 0.018\n",
    "    for ip, axd in enumerate(ax):\n",
    "        axd.set_xlabel(r'$M_*\\ \\rm (M_\\odot)$')\n",
    "        if ip == 0:\n",
    "            axd.set_ylabel(r'$Z/Z_\\odot$')\n",
    "        axd.set_xlim(xlims); axd.set_ylim(ylims)\n",
    "        axd.set_xscale('log'); axd.set_yscale('log')\n",
    "        lMsi = lMsiarr[ip]; \n",
    "        lMgi = lMgiarr[ip]; lMZi = lMZiarr[ip]\n",
    "        plot_ZMs_data(axd)\n",
    "        for iz, zp in enumerate(zplot): \n",
    "            MZz = 10.**lMZi(np.log10(1.0+zp),lMh); Msz = 10.**lMsi(np.log10(1.0+zp),lMh)\n",
    "            Mgz = 10.**lMgi(np.log10(1.0+zp),lMh)\n",
    "            axd.plot(Msz, MZz/Mgz/Zsun, c=zcolors[iz], lw=3.0, label=r'$\\mathrm{model}\\ z=%.1f$'%zp)\n",
    "        axd.set_title(titles[ip])\n",
    "        axd.grid(c='lightgray')\n",
    "    \n",
    "    plt.legend(frameon=False,loc='upper left', scatterpoints=1, fontsize=6)\n",
    "    #plt.savefig('fig/MsZ_wind.pdf')\n",
    "    plt.show()\n",
    "\n"
   ]
  },
  {
   "cell_type": "markdown",
   "metadata": {},
   "source": [
    "### Task 1. \n",
    "\n",
    "Plotting routine is set up to plot comparison of three models in a row (feel free to change it!). \n",
    "It takes as input three arrays for stellar mass, gas mass, and heavy element mass. RIght now I just set it up to plot the same simplest model in all three plots. Substitute appropriate arrays for other models and examine what they predict for this relation and how these predictions compare to observations. \n",
    "\n",
    "* Examine predictions of different versions of galaxy formation model. Can you make sense of what you see? (i.e. why models behave they do?)\n",
    "\n",
    "* How do different models compare to observations? Which model works best? Given the results for $M_\\star-M_{\\rm halo}$ discussed in lecture 5 today, which process is the most important in shaping properties of galaxies and their scalings? "
   ]
  },
  {
   "cell_type": "code",
   "execution_count": 11,
   "metadata": {},
   "outputs": [
    {
     "data": {
      "image/png": "[encoded data removed]",
      "text/plain": [
       "<Figure size 648x216 with 3 Axes>"
      ]
     },
     "metadata": {
      "needs_background": "light"
     },
     "output_type": "display_data"
    }
   ],
   "source": [
    "lMsiarr = [lMsnw, lMsnw, lMsnw]; lMZiarr = [lMZnw, lMZnw, lMZnw];\n",
    "lMgiarr = [lMgnw, lMgnw, lMgnw];\n",
    "\n",
    "# these titles are passed on to put a title on top of each panel\n",
    "titles = ['simplest model', 'simplest model', 'simplest model']\n",
    "\n",
    "# these arrays define at which redshifts to plot model predictions and which colors to use for lines at these z\n",
    "zplot = [0.07, 2.2, 3.5];  zcolors = ['mediumorchid', 'red', 'blue', 'darkgray']\n",
    "\n",
    "# plot\n",
    "plot_MsZ_model_obs(lMsiarr, lMgiarr, lMZiarr,  zplot=zplot, titles=titles)\n"
   ]
  },
  {
   "cell_type": "markdown",
   "metadata": {},
   "source": [
    "### Task 2\n",
    "\n",
    "Compute and plot *effective yield* defined as \n",
    "$$y_{\\rm eff}=\\frac{Z}{\\ln(1/f_{\\rm g})}\\leq y_{\\rm Z},\\ \\ \\  \\mathrm{where}\\ \\ \\ \\ f_{\\rm g}=\\frac{M_{\\rm g}}{M_{\\rm g}+M_\\star},$$\n",
    "Effective yield is predicted to be equal to $y_Z= 0.07$ for a system which just has some initial gas, but experiences no no inflows or outflows of gas (see below). Deviations of $y_{\\rm eff}$ from $y_Z$ thus indicates presence of inflows and/or outflows. It is especially sensitive to outflows.  Explore $y_{\\rm eff}$ predicted by different models as a function of $M_\\star+M_{\\rm gas}$ or as a function of $M_{\\rm gas}$. Compare your results to observational measurements in Figure 11 of <a href=\"https://ui.adsabs.harvard.edu/abs/2006ApJ...647..970L/abstract\">Lee et al. (2006).</a> Examine how value of $y_{\\rm eff}$ depends on the value of mass loading factor $\\eta$ assumed in the wind model (either models with constant $\\eta$ or normalization factor in the models in which $\\eta$ depend on $M_\\star$. "
   ]
  },
  {
   "cell_type": "markdown",
   "metadata": {},
   "source": [
    "### Possible extra exercise:\n",
    "\n",
    "* explore effect of gas accretion suppression due to UV heating on the $Z-M_\\star$ relation in the models with winds by setting up a model with wind where this heating effect is turned off. "
   ]
  },
  {
   "cell_type": "markdown",
   "metadata": {},
   "source": [
    "### Closed-box model of evolution for gas metallicity: solution\n",
    "\n",
    "We have $M_{\\star+\\rm g}=M_\\star+ M_{\\rm g}=\\mathrm{const}$, so $d\\tilde{M}_\\star=-dM_{\\rm g}$ and so multiplying the evolution equation \n",
    "\n",
    "$$\n",
    "\\dot{M}_{\\rm Z} = (y_{\\rm Z}-Z)\\,\\dot{\\tilde{M}}_{\\rm \\star}.\n",
    "$$\n",
    "\n",
    "by $dt$ and dividing by $d\\tilde{M}_\\star$ gives\n",
    "\n",
    "$$\\frac{dM_{\\rm Z}}{d\\tilde{M}_\\star} = y_{\\rm Z} - Z.$$\n",
    "\n",
    "$Z=M_{\\rm Z}/M_{\\rm g}$ so its differential is \n",
    "\n",
    "$$dZ = \\frac{dM_{\\rm Z}}{M_{\\rm g}} - Z\\frac{dM_{\\rm g}}{M_{\\rm g}}. $$\n",
    "\n",
    "Multiplying it by $M_{\\rm g}$ and dividing by $d\\tilde{M}_\\star$ we get \n",
    "\n",
    "$$M_{\\rm g}\\frac{dZ}{d\\tilde{M}_{\\star}} = -M_{\\rm g}\\frac{dZ}{dM_{\\rm g}} = \n",
    "\\frac{dM_{\\rm Z}}{d\\tilde{M}_\\star} - Z\\frac{dM_{\\rm g}}{d\\tilde{M}_{\\star}} = y_{\\rm Z}-Z + Z= y_{\\rm Z},$$\n",
    "\n",
    "where we used equations above in the last step. Thus, we have \n",
    "\n",
    "$$dZ = -y_{\\rm Z}\\frac{dM_{\\rm g}}{M_{\\rm g}},$$\n",
    "\n",
    "which, assuming that $y_{\\rm Z}=\\mathrm{const}$ has the solution\n",
    "\n",
    "$$Z(t) = Z(t_i) - y_{\\rm Z}\\left[\\ln M_{\\rm g}(t) - \\ln M_{\\rm g}(t_i)\\right] = Z(t_i) + y_{\\rm Z}\\ln \\left(\\frac{1}{f_{\\rm g}}\\right), $$\n",
    "\n",
    "where $Z(t_i)$ and $M_{\\rm g}(t_i)$ are the initial metallicity and gas mass at some initial time $t_i$. If we start before any star formation $Z(t_i)=0$ and $M_{\\rm g}(t_i) = M_{\\star +\\rm g}=\\mathrm{const}$ (it's closed box!), so the ratio of final to the initial gas mass is equal to the fraction of mass in gas at any time: $M_{\\rm g}(t)/M_{\\rm g}(t_i) = M_{\\rm g}(t)/[M_{\\rm g}(t)+M_\\star(t)]=f_{\\rm g}(t).$\n",
    "\n",
    "$$Z(t) = y_{\\rm Z}\\ln \\left(\\frac{1}{f_{\\rm g}}\\right), $$\n"
   ]
  }
 ],
 "metadata": {
  "kernelspec": {
   "display_name": "Python 3",
   "language": "python",
   "name": "python3"
  },
  "language_info": {
   "codemirror_mode": {
    "name": "ipython",
    "version": 3
   },
   "file_extension": ".py",
   "mimetype": "text/x-python",
   "name": "python",
   "nbconvert_exporter": "python",
   "pygments_lexer": "ipython3",
   "version": "3.7.1"
  }
 },
 "nbformat": 4,
 "nbformat_minor": 1
}
